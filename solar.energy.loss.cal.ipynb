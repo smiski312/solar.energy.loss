{
 "cells": [
  {
   "cell_type": "code",
   "execution_count": 1,
   "id": "e6a7d402-01c1-4a99-8f1f-c1e6452ef119",
   "metadata": {},
   "outputs": [],
   "source": [
    "import tensorflow as tf\n",
    "from tensorflow.keras.models import Sequential\n",
    "from tensorflow.keras.layers import LSTM, Dense\n",
    "from sklearn.preprocessing import MinMaxScaler\n",
    "import numpy as np\n",
    "import pandas as pd"
   ]
  },
  {
   "cell_type": "code",
   "execution_count": 8,
   "id": "a811c185-6548-490f-9010-0d3eb292c034",
   "metadata": {},
   "outputs": [],
   "source": [
    "solar_data = pd.read_csv(\"C:\\\\Users\\\\PRANAV\\\\Downloads\\\\Plant_1_Weather_Sensor_Data.csv\")\n",
    "wind_data = pd.read_csv(\"C:\\\\Users\\\\PRANAV\\\\Downloads\\\\Amprion.csv\")"
   ]
  },
  {
   "cell_type": "code",
   "execution_count": 11,
   "id": "0da71833-04a2-40b7-8890-6d7ed52d9c2b",
   "metadata": {},
   "outputs": [],
   "source": [
    "def load_data(file_path):\n",
    "    data = pd.read_csv(file_path)\n",
    "    # Preprocessing steps like filling missing values, normalization, etc.\n",
    "    return data"
   ]
  },
  {
   "cell_type": "code",
   "execution_count": 12,
   "id": "283683b4-07cf-4e9e-b2f0-953fcefa4b8d",
   "metadata": {},
   "outputs": [],
   "source": [
    "def create_sequences(data, seq_length):\n",
    "    sequences = []\n",
    "    for i in range(len(data) - seq_length):\n",
    "        sequences.append(data[i:i + seq_length])\n",
    "    return np.array(sequences)\n"
   ]
  },
  {
   "cell_type": "code",
   "execution_count": 13,
   "id": "dad02e7e-a57e-42e3-8576-ad078671cfaf",
   "metadata": {},
   "outputs": [],
   "source": [
    "data = pd.concat([solar_data, wind_data], axis=1)"
   ]
  },
  {
   "cell_type": "code",
   "execution_count": 15,
   "id": "aff0788c-586c-4f74-8964-7d0253182e8f",
   "metadata": {},
   "outputs": [],
   "source": [
    "import pandas as pd\n",
    "from sklearn.preprocessing import MinMaxScaler\n",
    "solar_data = pd.read_csv(r\"C:\\Users\\PRANAV\\Downloads\\Plant_1_Weather_Sensor_Data.csv\")\n",
    "wind_data = pd.read_csv(r\"C:\\Users\\PRANAV\\Downloads\\Amprion.csv\")\n"
   ]
  },
  {
   "cell_type": "code",
   "execution_count": 16,
   "id": "192758e8-eb0a-464d-a707-6676737a69e4",
   "metadata": {},
   "outputs": [
    {
     "name": "stdout",
     "output_type": "stream",
     "text": [
      "DATE_TIME               object\n",
      "PLANT_ID                 int64\n",
      "SOURCE_KEY              object\n",
      "AMBIENT_TEMPERATURE    float64\n",
      "MODULE_TEMPERATURE     float64\n",
      "IRRADIATION            float64\n",
      "dtype: object\n",
      "Date        object\n",
      "00:00:00     int64\n",
      "00:15:00     int64\n",
      "00:30:00     int64\n",
      "00:45:00     int64\n",
      "             ...  \n",
      "22:45:00     int64\n",
      "23:00:00     int64\n",
      "23:15:00     int64\n",
      "23:30:00     int64\n",
      "23:45:00     int64\n",
      "Length: 97, dtype: object\n"
     ]
    }
   ],
   "source": [
    "print(solar_data.dtypes)\n",
    "print(wind_data.dtypes)"
   ]
  },
  {
   "cell_type": "code",
   "execution_count": 17,
   "id": "62b664c4-4fa1-428e-bb17-a23f89753e4f",
   "metadata": {},
   "outputs": [],
   "source": [
    "numeric_columns_solar = solar_data.select_dtypes(include=['float64', 'int64']).columns\n",
    "data_numeric_solar = solar_data[numeric_columns_solar]\n",
    "\n",
    "numeric_columns_wind = wind_data.select_dtypes(include=['float64', 'int64']).columns\n",
    "data_numeric_wind = wind_data[numeric_columns_wind]"
   ]
  },
  {
   "cell_type": "code",
   "execution_count": 18,
   "id": "f50677af-b60d-44e4-aa3f-bd50aedfdec8",
   "metadata": {},
   "outputs": [],
   "source": [
    "scaler = MinMaxScaler()\n",
    "data_scaled_solar = scaler.fit_transform(data_numeric_solar)\n",
    "data_scaled_wind = scaler.fit_transform(data_numeric_wind)\n",
    "\n",
    "data_scaled_solar = pd.DataFrame(data_scaled_solar, columns=numeric_columns_solar)\n",
    "data_scaled_wind = pd.DataFrame(data_scaled_wind, columns=numeric_columns_wind)\n"
   ]
  },
  {
   "cell_type": "code",
   "execution_count": 19,
   "id": "39815030-3e6d-4d44-93d5-d50995c9c8ab",
   "metadata": {},
   "outputs": [],
   "source": [
    "if 'datetime_column_name' in solar_data.columns:\n",
    "    solar_data['datetime_column_name'] = pd.to_datetime(solar_data['datetime_column_name'])\n",
    "    solar_data['timestamp'] = solar_data['datetime_column_name'].astype('int64') // 10**9  \n",
    "\n",
    "if 'datetime_column_name' in wind_data.columns:\n",
    "    wind_data['datetime_column_name'] = pd.to_datetime(wind_data['datetime_column_name'])\n",
    "    wind_data['timestamp'] = wind_data['datetime_column_name'].astype('int64') // 10**9  \n"
   ]
  },
  {
   "cell_type": "code",
   "execution_count": 25,
   "id": "6f6c1b63-0262-481b-9beb-457cd426d96a",
   "metadata": {},
   "outputs": [],
   "source": [
    "SEQ_LENGTH = 60  # Example sequence length\n",
    "sequences = create_sequences(data_scaled_solar, SEQ_LENGTH)\n",
    "SEQ_LENGTH = 60  # Example sequence length\n",
    "sequences = create_sequences(data_scaled_wind, SEQ_LENGTH)"
   ]
  },
  {
   "cell_type": "code",
   "execution_count": 26,
   "id": "daffedfe-65e9-4400-a348-f1e0cb1cde83",
   "metadata": {},
   "outputs": [],
   "source": [
    "train_size = int(len(sequences) * 0.8)\n",
    "train_sequences = sequences[:train_size]\n",
    "test_sequences = sequences[train_size:]\n",
    "\n",
    "X_train = train_sequences[:, :-1]\n",
    "y_train = train_sequences[:, -1]\n",
    "X_test = test_sequences[:, :-1]\n",
    "y_test = test_sequences[:, -1]"
   ]
  },
  {
   "cell_type": "code",
   "execution_count": 27,
   "id": "5ab21e01-bc7a-44cb-9b6b-6dc36cc754e7",
   "metadata": {},
   "outputs": [],
   "source": [
    "model = Sequential()\n",
    "model.add(LSTM(50, return_sequences=True, input_shape=(X_train.shape[1], X_train.shape[2])))\n",
    "model.add(LSTM(50))\n",
    "model.add(Dense(1))\n",
    "\n",
    "model.compile(optimizer='adam', loss='mse')"
   ]
  },
  {
   "cell_type": "code",
   "execution_count": 28,
   "id": "792b7d7a-9584-401c-860e-4b3fa32e6c88",
   "metadata": {},
   "outputs": [
    {
     "name": "stdout",
     "output_type": "stream",
     "text": [
      "Epoch 1/20\n",
      "7/7 [==============================] - 6s 188ms/step - loss: 0.0722 - val_loss: 0.0222\n",
      "Epoch 2/20\n",
      "7/7 [==============================] - 0s 42ms/step - loss: 0.0574 - val_loss: 0.0192\n",
      "Epoch 3/20\n",
      "7/7 [==============================] - 0s 40ms/step - loss: 0.0559 - val_loss: 0.0186\n",
      "Epoch 4/20\n",
      "7/7 [==============================] - 0s 42ms/step - loss: 0.0515 - val_loss: 0.0171\n",
      "Epoch 5/20\n",
      "7/7 [==============================] - 0s 40ms/step - loss: 0.0478 - val_loss: 0.0183\n",
      "Epoch 6/20\n",
      "7/7 [==============================] - 0s 41ms/step - loss: 0.0454 - val_loss: 0.0156\n",
      "Epoch 7/20\n",
      "7/7 [==============================] - 0s 42ms/step - loss: 0.0453 - val_loss: 0.0155\n",
      "Epoch 8/20\n",
      "7/7 [==============================] - 0s 44ms/step - loss: 0.0413 - val_loss: 0.0148\n",
      "Epoch 9/20\n",
      "7/7 [==============================] - 0s 42ms/step - loss: 0.0383 - val_loss: 0.0144\n",
      "Epoch 10/20\n",
      "7/7 [==============================] - 0s 42ms/step - loss: 0.0364 - val_loss: 0.0158\n",
      "Epoch 11/20\n",
      "7/7 [==============================] - 0s 42ms/step - loss: 0.0359 - val_loss: 0.0165\n",
      "Epoch 12/20\n",
      "7/7 [==============================] - 0s 41ms/step - loss: 0.0340 - val_loss: 0.0142\n",
      "Epoch 13/20\n",
      "7/7 [==============================] - 0s 42ms/step - loss: 0.0338 - val_loss: 0.0139\n",
      "Epoch 14/20\n",
      "7/7 [==============================] - 0s 41ms/step - loss: 0.0322 - val_loss: 0.0151\n",
      "Epoch 15/20\n",
      "7/7 [==============================] - 0s 41ms/step - loss: 0.0305 - val_loss: 0.0139\n",
      "Epoch 16/20\n",
      "7/7 [==============================] - 0s 41ms/step - loss: 0.0300 - val_loss: 0.0142\n",
      "Epoch 17/20\n",
      "7/7 [==============================] - 0s 41ms/step - loss: 0.0288 - val_loss: 0.0147\n",
      "Epoch 18/20\n",
      "7/7 [==============================] - 0s 41ms/step - loss: 0.0292 - val_loss: 0.0136\n",
      "Epoch 19/20\n",
      "7/7 [==============================] - 0s 41ms/step - loss: 0.0284 - val_loss: 0.0137\n",
      "Epoch 20/20\n",
      "7/7 [==============================] - 0s 42ms/step - loss: 0.0280 - val_loss: 0.0148\n"
     ]
    }
   ],
   "source": [
    "history = model.fit(X_train, y_train, epochs=20, batch_size=32, validation_split=0.2)"
   ]
  },
  {
   "cell_type": "code",
   "execution_count": 29,
   "id": "24aa5f5d-f8fc-4c19-9bce-ca856c058672",
   "metadata": {},
   "outputs": [
    {
     "name": "stdout",
     "output_type": "stream",
     "text": [
      "3/3 [==============================] - 0s 12ms/step - loss: 0.0121\n",
      "Test Loss: 0.01207816880196333\n"
     ]
    }
   ],
   "source": [
    "loss = model.evaluate(X_test, y_test)\n",
    "print(f'Test Loss: {loss}')"
   ]
  },
  {
   "cell_type": "code",
   "execution_count": 30,
   "id": "d88f5aad-96a8-4155-b325-5cf438b95405",
   "metadata": {},
   "outputs": [
    {
     "name": "stdout",
     "output_type": "stream",
     "text": [
      "3/3 [==============================] - 1s 13ms/step\n"
     ]
    }
   ],
   "source": [
    "predictions = model.predict(X_test)"
   ]
  },
  {
   "cell_type": "code",
   "execution_count": 31,
   "id": "20830708-00da-455b-badf-80eee223cc01",
   "metadata": {},
   "outputs": [
    {
     "data": {
      "text/html": [
       "<style>#sk-container-id-1 {color: black;background-color: white;}#sk-container-id-1 pre{padding: 0;}#sk-container-id-1 div.sk-toggleable {background-color: white;}#sk-container-id-1 label.sk-toggleable__label {cursor: pointer;display: block;width: 100%;margin-bottom: 0;padding: 0.3em;box-sizing: border-box;text-align: center;}#sk-container-id-1 label.sk-toggleable__label-arrow:before {content: \"▸\";float: left;margin-right: 0.25em;color: #696969;}#sk-container-id-1 label.sk-toggleable__label-arrow:hover:before {color: black;}#sk-container-id-1 div.sk-estimator:hover label.sk-toggleable__label-arrow:before {color: black;}#sk-container-id-1 div.sk-toggleable__content {max-height: 0;max-width: 0;overflow: hidden;text-align: left;background-color: #f0f8ff;}#sk-container-id-1 div.sk-toggleable__content pre {margin: 0.2em;color: black;border-radius: 0.25em;background-color: #f0f8ff;}#sk-container-id-1 input.sk-toggleable__control:checked~div.sk-toggleable__content {max-height: 200px;max-width: 100%;overflow: auto;}#sk-container-id-1 input.sk-toggleable__control:checked~label.sk-toggleable__label-arrow:before {content: \"▾\";}#sk-container-id-1 div.sk-estimator input.sk-toggleable__control:checked~label.sk-toggleable__label {background-color: #d4ebff;}#sk-container-id-1 div.sk-label input.sk-toggleable__control:checked~label.sk-toggleable__label {background-color: #d4ebff;}#sk-container-id-1 input.sk-hidden--visually {border: 0;clip: rect(1px 1px 1px 1px);clip: rect(1px, 1px, 1px, 1px);height: 1px;margin: -1px;overflow: hidden;padding: 0;position: absolute;width: 1px;}#sk-container-id-1 div.sk-estimator {font-family: monospace;background-color: #f0f8ff;border: 1px dotted black;border-radius: 0.25em;box-sizing: border-box;margin-bottom: 0.5em;}#sk-container-id-1 div.sk-estimator:hover {background-color: #d4ebff;}#sk-container-id-1 div.sk-parallel-item::after {content: \"\";width: 100%;border-bottom: 1px solid gray;flex-grow: 1;}#sk-container-id-1 div.sk-label:hover label.sk-toggleable__label {background-color: #d4ebff;}#sk-container-id-1 div.sk-serial::before {content: \"\";position: absolute;border-left: 1px solid gray;box-sizing: border-box;top: 0;bottom: 0;left: 50%;z-index: 0;}#sk-container-id-1 div.sk-serial {display: flex;flex-direction: column;align-items: center;background-color: white;padding-right: 0.2em;padding-left: 0.2em;position: relative;}#sk-container-id-1 div.sk-item {position: relative;z-index: 1;}#sk-container-id-1 div.sk-parallel {display: flex;align-items: stretch;justify-content: center;background-color: white;position: relative;}#sk-container-id-1 div.sk-item::before, #sk-container-id-1 div.sk-parallel-item::before {content: \"\";position: absolute;border-left: 1px solid gray;box-sizing: border-box;top: 0;bottom: 0;left: 50%;z-index: -1;}#sk-container-id-1 div.sk-parallel-item {display: flex;flex-direction: column;z-index: 1;position: relative;background-color: white;}#sk-container-id-1 div.sk-parallel-item:first-child::after {align-self: flex-end;width: 50%;}#sk-container-id-1 div.sk-parallel-item:last-child::after {align-self: flex-start;width: 50%;}#sk-container-id-1 div.sk-parallel-item:only-child::after {width: 0;}#sk-container-id-1 div.sk-dashed-wrapped {border: 1px dashed gray;margin: 0 0.4em 0.5em 0.4em;box-sizing: border-box;padding-bottom: 0.4em;background-color: white;}#sk-container-id-1 div.sk-label label {font-family: monospace;font-weight: bold;display: inline-block;line-height: 1.2em;}#sk-container-id-1 div.sk-label-container {text-align: center;}#sk-container-id-1 div.sk-container {/* jupyter's `normalize.less` sets `[hidden] { display: none; }` but bootstrap.min.css set `[hidden] { display: none !important; }` so we also need the `!important` here to be able to override the default hidden behavior on the sphinx rendered scikit-learn.org. See: https://github.com/scikit-learn/scikit-learn/issues/21755 */display: inline-block !important;position: relative;}#sk-container-id-1 div.sk-text-repr-fallback {display: none;}</style><div id=\"sk-container-id-1\" class=\"sk-top-container\"><div class=\"sk-text-repr-fallback\"><pre>IsolationForest(contamination=0.01)</pre><b>In a Jupyter environment, please rerun this cell to show the HTML representation or trust the notebook. <br />On GitHub, the HTML representation is unable to render, please try loading this page with nbviewer.org.</b></div><div class=\"sk-container\" hidden><div class=\"sk-item\"><div class=\"sk-estimator sk-toggleable\"><input class=\"sk-toggleable__control sk-hidden--visually\" id=\"sk-estimator-id-1\" type=\"checkbox\" checked><label for=\"sk-estimator-id-1\" class=\"sk-toggleable__label sk-toggleable__label-arrow\">IsolationForest</label><div class=\"sk-toggleable__content\"><pre>IsolationForest(contamination=0.01)</pre></div></div></div></div></div>"
      ],
      "text/plain": [
       "IsolationForest(contamination=0.01)"
      ]
     },
     "execution_count": 31,
     "metadata": {},
     "output_type": "execute_result"
    }
   ],
   "source": [
    "from sklearn.ensemble import IsolationForest\n",
    "\n",
    "# Train isolation forest on training data\n",
    "iso_forest = IsolationForest(contamination=0.01)\n",
    "iso_forest.fit(X_train.reshape(X_train.shape[0], -1))"
   ]
  },
  {
   "cell_type": "code",
   "execution_count": 32,
   "id": "9f59db7e-c51f-4269-84e1-56990f933150",
   "metadata": {},
   "outputs": [],
   "source": [
    "anomalies = iso_forest.predict(X_test.reshape(X_test.shape[0], -1))\n",
    "anomalies = np.where(anomalies == -1, 1, 0)"
   ]
  },
  {
   "cell_type": "code",
   "execution_count": 33,
   "id": "fcab9564-1bf9-4a90-b6ab-c2f91d513844",
   "metadata": {},
   "outputs": [
    {
     "name": "stdout",
     "output_type": "stream",
     "text": [
      "Number of anomalies detected: 0\n"
     ]
    }
   ],
   "source": [
    "print(f'Number of anomalies detected: {np.sum(anomalies)}')"
   ]
  },
  {
   "cell_type": "code",
   "execution_count": null,
   "id": "86898421-fe5e-40f5-a79e-4aa26a87516a",
   "metadata": {},
   "outputs": [],
   "source": []
  }
 ],
 "metadata": {
  "kernelspec": {
   "display_name": "Python 3 (ipykernel)",
   "language": "python",
   "name": "python3"
  },
  "language_info": {
   "codemirror_mode": {
    "name": "ipython",
    "version": 3
   },
   "file_extension": ".py",
   "mimetype": "text/x-python",
   "name": "python",
   "nbconvert_exporter": "python",
   "pygments_lexer": "ipython3",
   "version": "3.11.0"
  }
 },
 "nbformat": 4,
 "nbformat_minor": 5
}
